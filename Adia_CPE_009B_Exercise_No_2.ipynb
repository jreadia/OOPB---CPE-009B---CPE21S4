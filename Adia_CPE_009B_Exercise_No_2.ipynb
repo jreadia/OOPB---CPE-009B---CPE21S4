{
  "nbformat": 4,
  "nbformat_minor": 0,
  "metadata": {
    "colab": {
      "provenance": [],
      "authorship_tag": "ABX9TyMHv8/goZbVzoad/Twm0Rlq",
      "include_colab_link": true
    },
    "kernelspec": {
      "name": "python3",
      "display_name": "Python 3"
    },
    "language_info": {
      "name": "python"
    }
  },
  "cells": [
    {
      "cell_type": "markdown",
      "metadata": {
        "id": "view-in-github",
        "colab_type": "text"
      },
      "source": [
        "<a href=\"https://colab.research.google.com/github/jreadia/OOPB-CPE-009B-CPE21S4/blob/main/Adia_CPE_009B_Exercise_No_2.ipynb\" target=\"_parent\"><img src=\"https://colab.research.google.com/assets/colab-badge.svg\" alt=\"Open In Colab\"/></a>"
      ]
    },
    {
      "cell_type": "markdown",
      "source": [
        "# Example 1 - Summation of Two Numbers"
      ],
      "metadata": {
        "id": "WMRLslrVXnCJ"
      }
    },
    {
      "cell_type": "code",
      "execution_count": 4,
      "metadata": {
        "colab": {
          "base_uri": "https://localhost:8080/"
        },
        "id": "chN5iPFjWTFT",
        "outputId": "675dafb9-a9e3-4a5c-bfb2-1537314473f1"
      },
      "outputs": [
        {
          "output_type": "stream",
          "name": "stdout",
          "text": [
            "7\n"
          ]
        }
      ],
      "source": [
        "class foo:\n",
        "  def __init__(self, a, b):\n",
        "    self.a = a\n",
        "    self.b = b\n",
        "\n",
        "  def add(self):\n",
        "    return self.a + self.b\n",
        "\n",
        "foo_object = foo(3, 4)\n",
        "print(foo_object.add())"
      ]
    },
    {
      "cell_type": "markdown",
      "source": [
        "# Example 2 - Class Counter\n",
        "\n",
        "* Complete the program by adding the object name\n",
        "* Print the output variable that displays the instance/behavior of every function\n",
        "* Apply encapsulation by typing a single 'underscore' for a private variable\n",
        "\n",
        "\n",
        "\n",
        "\n"
      ],
      "metadata": {
        "id": "QpcQezJLZLps"
      }
    },
    {
      "cell_type": "code",
      "source": [
        "# Added 'underscore' on current to show encapsulation\n",
        "# Added 'apple' as the object name\n",
        "class Counter:\n",
        "  def __init__(self):\n",
        "    self._current = 0\n",
        "\n",
        "  def increment(self):\n",
        "    self._current += 1\n",
        "    return self._current\n",
        "\n",
        "  def value(self):\n",
        "    return self._current\n",
        "\n",
        "  def reset(self):\n",
        "    self._current = 0\n",
        "    return self._current\n",
        "\n",
        "# Assigning apple as the object name\n",
        "apple = Counter()\n",
        "\n",
        "# Uses increment function 3 times to add value and print the current value\n",
        "apple.increment()\n",
        "apple.increment()\n",
        "apple.increment()\n",
        "print(apple.value())\n",
        "\n",
        "# Uses reset function to reset value to 0 and print the current value\n",
        "apple.reset()\n",
        "print(apple.value())"
      ],
      "metadata": {
        "colab": {
          "base_uri": "https://localhost:8080/"
        },
        "id": "0NAKaydCZNb6",
        "outputId": "5bd21bb5-0755-44a3-ac25-9cbf7dce6738"
      },
      "execution_count": 19,
      "outputs": [
        {
          "output_type": "stream",
          "name": "stdout",
          "text": [
            "3\n",
            "0\n"
          ]
        }
      ]
    }
  ]
}