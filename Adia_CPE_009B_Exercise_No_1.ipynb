{
  "nbformat": 4,
  "nbformat_minor": 0,
  "metadata": {
    "colab": {
      "provenance": [],
      "authorship_tag": "ABX9TyP1PdB1KwPLzq7f+DCyeG0a",
      "include_colab_link": true
    },
    "kernelspec": {
      "name": "python3",
      "display_name": "Python 3"
    },
    "language_info": {
      "name": "python"
    }
  },
  "cells": [
    {
      "cell_type": "markdown",
      "metadata": {
        "id": "view-in-github",
        "colab_type": "text"
      },
      "source": [
        "<a href=\"https://colab.research.google.com/github/jreadia/OOPB-CPE-009B-CPE21S4/blob/main/Adia_CPE_009B_Exercise_No_1.ipynb\" target=\"_parent\"><img src=\"https://colab.research.google.com/assets/colab-badge.svg\" alt=\"Open In Colab\"/></a>"
      ]
    },
    {
      "cell_type": "markdown",
      "source": [
        "# EXAMPLE OF CLASS CONSTRUCTOR"
      ],
      "metadata": {
        "id": "UOVAtA86ULGT"
      }
    },
    {
      "cell_type": "code",
      "execution_count": 60,
      "metadata": {
        "colab": {
          "base_uri": "https://localhost:8080/"
        },
        "id": "oaaDmyCcFt4z",
        "outputId": "85c9d39f-cde4-45d9-a866-94600c9bff0b"
      },
      "outputs": [
        {
          "output_type": "stream",
          "name": "stdout",
          "text": [
            "Hello my name is James, I am 20 years old and I was born on May 15, 2004. \n",
            "\n",
            "Hello my name is Jay, I am 12 years old and I was born on January 2, 2012. \n",
            "\n",
            "Hello my name is Jomar, I am 31 years old and I was born on December 25, 1992.\n"
          ]
        }
      ],
      "source": [
        "\n",
        "# Class Constructor\n",
        "\n",
        "class Person:\n",
        "  def __init__ (self, name, age, birthdate):\n",
        "    self.name = name\n",
        "    self.age = age\n",
        "    self.birthdate = birthdate # defining attributes and identity\n",
        "\n",
        "  def person_attribute(self): # method constructor\n",
        "    return f\"Hello my name is {self.name}, I am {self.age} years old and I was born on {self.birthdate}.\"\n",
        "\n",
        "class Teacher(Person): # subclass constructor\n",
        "  pass\n",
        "\n",
        "class Student(Person): # subclass constructor\n",
        "  pass\n",
        "\n",
        "# object instantation - Person Class\n",
        "p1 = Person(\"James\", 20, \"May 15, 2004\") # behavior/instance of a class\n",
        "print(f\"{p1.person_attribute()} \\n\")\n",
        "\n",
        "# object instantaion - Student Subclass\n",
        "p2 = Student(\"Jay\", 12, \"January 2, 2012\")\n",
        "print(f\"{p2.person_attribute()} \\n\")\n",
        "\n",
        "# object instantaion - Teacher Subclass\n",
        "p3 = Teacher(\"Jomar\", 31, \"December 25, 1992\")\n",
        "print(f\"{p3.person_attribute()}\")\n"
      ]
    },
    {
      "cell_type": "markdown",
      "source": [
        "# CHALLENGE ACTIVITY"
      ],
      "metadata": {
        "id": "BsnlbkzUS4_b"
      }
    },
    {
      "cell_type": "markdown",
      "source": [
        "* Create a python program that has the following:\n",
        "  - Superclass named as Shapes\n",
        "  - Subclasses: Rectangle, Square\n",
        "  - Methods: perimeter(), Area()\n",
        "  - Object name: rectangle, square\n",
        "  - Inherits the attributes of Superclass Shapes\n",
        "    - self.side = side"
      ],
      "metadata": {
        "id": "h8NNhpFhTBjS"
      }
    },
    {
      "cell_type": "code",
      "source": [
        "# Defining the Parent Class - Shapes\n",
        "class Shapes:\n",
        "  def __init__(self, side1, side2):\n",
        "    self.side1 = side1\n",
        "    self.side2 = side2\n",
        "\n",
        "  def Perimeter(self):\n",
        "    return (2 * self.side1) + (2 * self.side2)\n",
        "\n",
        "  def Area(self):\n",
        "    return self.side1 * self.side2\n",
        "\n",
        "# Subclass 1 - Rectangle\n",
        "class Rectangle(Shapes):\n",
        " pass\n",
        "\n",
        "# Subclass 2 - Square\n",
        "class Square(Shapes):\n",
        "  def __init__(self, side):\n",
        "    super().__init__(side, side)\n",
        "    self.side = side\n",
        "\n",
        "# Area and Perimeter of a Rectangle\n",
        "rectangle = Rectangle(15, 10)\n",
        "print(f\"The perimeter of the rectangle is {rectangle.Perimeter()}.\")\n",
        "print(f\"The area of the rectangle is {rectangle.Area()}. \\n\")\n",
        "\n",
        "# Area and Perimeter of a Square\n",
        "square = Square(12)\n",
        "print(f\"The perimeter of the square is {square.Perimeter()}.\")\n",
        "print(f\"The area of the square is {square.Area()}.\")"
      ],
      "metadata": {
        "colab": {
          "base_uri": "https://localhost:8080/"
        },
        "id": "R9rij7egUHxa",
        "outputId": "64f5c3b3-62fd-4a94-fdff-d89d3e714ed9"
      },
      "execution_count": 75,
      "outputs": [
        {
          "output_type": "stream",
          "name": "stdout",
          "text": [
            "The perimeter of the rectangle is 50.\n",
            "The area of the rectangle is 150. \n",
            "\n",
            "The perimeter of the square is 48.\n",
            "The area of the square is 144.\n"
          ]
        }
      ]
    }
  ]
}